{
  "cells": [
    {
      "cell_type": "markdown",
      "metadata": {
        "id": "Ml1hmfXC_Zcs"
      },
      "source": [
        "## Обзор данных\n",
        "\n",
        "Составьте первое представление о данных Яндекс.Музыки.\n",
        "\n",
        "\n"
      ]
    },
    {
      "cell_type": "code",
      "execution_count": null,
      "metadata": {
        "id": "AXN7PHPN_Zcs"
      },
      "outputs": [],
      "source": [
        "import pandas as pd # импорт библиотеки pandas"
      ]
    },
    {
      "cell_type": "code",
      "execution_count": null,
      "metadata": {
        "id": "fFVu7vqh_Zct"
      },
      "outputs": [],
      "source": [
        "df = pd.read_csv('/datasets/yandex_music_project.csv') # чтение файла с данными и сохранение в df"
      ]
    },
    {
      "cell_type": "code",
      "execution_count": null,
      "metadata": {
        "id": "oWTVX3gW_Zct",
        "scrolled": true,
        "outputId": "720ecda1-f40f-4a2c-8136-def3e94f0ca3"
      },
      "outputs": [
        {
          "data": {
            "text/html": [
              "<div>\n",
              "<style scoped>\n",
              "    .dataframe tbody tr th:only-of-type {\n",
              "        vertical-align: middle;\n",
              "    }\n",
              "\n",
              "    .dataframe tbody tr th {\n",
              "        vertical-align: top;\n",
              "    }\n",
              "\n",
              "    .dataframe thead th {\n",
              "        text-align: right;\n",
              "    }\n",
              "</style>\n",
              "<table border=\"1\" class=\"dataframe\">\n",
              "  <thead>\n",
              "    <tr style=\"text-align: right;\">\n",
              "      <th></th>\n",
              "      <th>userID</th>\n",
              "      <th>Track</th>\n",
              "      <th>artist</th>\n",
              "      <th>genre</th>\n",
              "      <th>City</th>\n",
              "      <th>time</th>\n",
              "      <th>Day</th>\n",
              "    </tr>\n",
              "  </thead>\n",
              "  <tbody>\n",
              "    <tr>\n",
              "      <td>0</td>\n",
              "      <td>FFB692EC</td>\n",
              "      <td>Kamigata To Boots</td>\n",
              "      <td>The Mass Missile</td>\n",
              "      <td>rock</td>\n",
              "      <td>Saint-Petersburg</td>\n",
              "      <td>20:28:33</td>\n",
              "      <td>Wednesday</td>\n",
              "    </tr>\n",
              "    <tr>\n",
              "      <td>1</td>\n",
              "      <td>55204538</td>\n",
              "      <td>Delayed Because of Accident</td>\n",
              "      <td>Andreas Rönnberg</td>\n",
              "      <td>rock</td>\n",
              "      <td>Moscow</td>\n",
              "      <td>14:07:09</td>\n",
              "      <td>Friday</td>\n",
              "    </tr>\n",
              "    <tr>\n",
              "      <td>2</td>\n",
              "      <td>20EC38</td>\n",
              "      <td>Funiculì funiculà</td>\n",
              "      <td>Mario Lanza</td>\n",
              "      <td>pop</td>\n",
              "      <td>Saint-Petersburg</td>\n",
              "      <td>20:58:07</td>\n",
              "      <td>Wednesday</td>\n",
              "    </tr>\n",
              "    <tr>\n",
              "      <td>3</td>\n",
              "      <td>A3DD03C9</td>\n",
              "      <td>Dragons in the Sunset</td>\n",
              "      <td>Fire + Ice</td>\n",
              "      <td>folk</td>\n",
              "      <td>Saint-Petersburg</td>\n",
              "      <td>08:37:09</td>\n",
              "      <td>Monday</td>\n",
              "    </tr>\n",
              "    <tr>\n",
              "      <td>4</td>\n",
              "      <td>E2DC1FAE</td>\n",
              "      <td>Soul People</td>\n",
              "      <td>Space Echo</td>\n",
              "      <td>dance</td>\n",
              "      <td>Moscow</td>\n",
              "      <td>08:34:34</td>\n",
              "      <td>Monday</td>\n",
              "    </tr>\n",
              "    <tr>\n",
              "      <td>5</td>\n",
              "      <td>842029A1</td>\n",
              "      <td>Преданная</td>\n",
              "      <td>IMPERVTOR</td>\n",
              "      <td>rusrap</td>\n",
              "      <td>Saint-Petersburg</td>\n",
              "      <td>13:09:41</td>\n",
              "      <td>Friday</td>\n",
              "    </tr>\n",
              "    <tr>\n",
              "      <td>6</td>\n",
              "      <td>4CB90AA5</td>\n",
              "      <td>True</td>\n",
              "      <td>Roman Messer</td>\n",
              "      <td>dance</td>\n",
              "      <td>Moscow</td>\n",
              "      <td>13:00:07</td>\n",
              "      <td>Wednesday</td>\n",
              "    </tr>\n",
              "    <tr>\n",
              "      <td>7</td>\n",
              "      <td>F03E1C1F</td>\n",
              "      <td>Feeling This Way</td>\n",
              "      <td>Polina Griffith</td>\n",
              "      <td>dance</td>\n",
              "      <td>Moscow</td>\n",
              "      <td>20:47:49</td>\n",
              "      <td>Wednesday</td>\n",
              "    </tr>\n",
              "    <tr>\n",
              "      <td>8</td>\n",
              "      <td>8FA1D3BE</td>\n",
              "      <td>И вновь продолжается бой</td>\n",
              "      <td>NaN</td>\n",
              "      <td>ruspop</td>\n",
              "      <td>Moscow</td>\n",
              "      <td>09:17:40</td>\n",
              "      <td>Friday</td>\n",
              "    </tr>\n",
              "    <tr>\n",
              "      <td>9</td>\n",
              "      <td>E772D5C0</td>\n",
              "      <td>Pessimist</td>\n",
              "      <td>NaN</td>\n",
              "      <td>dance</td>\n",
              "      <td>Saint-Petersburg</td>\n",
              "      <td>21:20:49</td>\n",
              "      <td>Wednesday</td>\n",
              "    </tr>\n",
              "  </tbody>\n",
              "</table>\n",
              "</div>"
            ],
            "text/plain": [
              "     userID                        Track            artist   genre  \\\n",
              "0  FFB692EC            Kamigata To Boots  The Mass Missile    rock   \n",
              "1  55204538  Delayed Because of Accident  Andreas Rönnberg    rock   \n",
              "2    20EC38            Funiculì funiculà       Mario Lanza     pop   \n",
              "3  A3DD03C9        Dragons in the Sunset        Fire + Ice    folk   \n",
              "4  E2DC1FAE                  Soul People        Space Echo   dance   \n",
              "5  842029A1                    Преданная         IMPERVTOR  rusrap   \n",
              "6  4CB90AA5                         True      Roman Messer   dance   \n",
              "7  F03E1C1F             Feeling This Way   Polina Griffith   dance   \n",
              "8  8FA1D3BE     И вновь продолжается бой               NaN  ruspop   \n",
              "9  E772D5C0                    Pessimist               NaN   dance   \n",
              "\n",
              "             City        time        Day  \n",
              "0  Saint-Petersburg  20:28:33  Wednesday  \n",
              "1            Moscow  14:07:09     Friday  \n",
              "2  Saint-Petersburg  20:58:07  Wednesday  \n",
              "3  Saint-Petersburg  08:37:09     Monday  \n",
              "4            Moscow  08:34:34     Monday  \n",
              "5  Saint-Petersburg  13:09:41     Friday  \n",
              "6            Moscow  13:00:07  Wednesday  \n",
              "7            Moscow  20:47:49  Wednesday  \n",
              "8            Moscow  09:17:40     Friday  \n",
              "9  Saint-Petersburg  21:20:49  Wednesday  "
            ]
          },
          "execution_count": 26,
          "metadata": {},
          "output_type": "execute_result"
        }
      ],
      "source": [
        "df.head(10) # получение первых 10 строк таблицы df"
      ]
    },
    {
      "cell_type": "code",
      "execution_count": null,
      "metadata": {
        "id": "DSf2kIb-_Zct",
        "outputId": "778b7297-bc19-4cd2-b50f-aca1685f2d76"
      },
      "outputs": [
        {
          "name": "stdout",
          "output_type": "stream",
          "text": [
            "<class 'pandas.core.frame.DataFrame'>\n",
            "RangeIndex: 65079 entries, 0 to 65078\n",
            "Data columns (total 7 columns):\n",
            "  userID    65079 non-null object\n",
            "Track       63848 non-null object\n",
            "artist      57876 non-null object\n",
            "genre       63881 non-null object\n",
            "  City      65079 non-null object\n",
            "time        65079 non-null object\n",
            "Day         65079 non-null object\n",
            "dtypes: object(7)\n",
            "memory usage: 3.5+ MB\n"
          ]
        }
      ],
      "source": [
        "df.info() # получение общей информации о данных в таблице df"
      ]
    },
    {
      "cell_type": "markdown",
      "metadata": {
        "id": "TaQ2Iwbr_Zct"
      },
      "source": [
        "Итак, в таблице семь столбцов. Тип данных во всех столбцах — `object`.\n",
        "\n",
        "Согласно документации к данным:\n",
        "* `userID` — идентификатор пользователя;\n",
        "* `Track` — название трека;  \n",
        "* `artist` — имя исполнителя;\n",
        "* `genre` — название жанра;\n",
        "* `City` — город пользователя;\n",
        "* `time` — время начала прослушивания;\n",
        "* `Day` — день недели.\n",
        "\n",
        "В названиях колонок видны три нарушения стиля:\n",
        "1. Строчные буквы сочетаются с прописными.\n",
        "2. Встречаются пробелы.\n",
        "3. user_id необходимо записать в  змеином регистре.\n",
        "\n",
        "\n",
        "\n",
        "Количество значений в столбцах различается. Значит, в данных есть пропущенные значения.\n"
      ]
    },
    {
      "cell_type": "markdown",
      "metadata": {
        "id": "MCB6-dXG_Zct"
      },
      "source": [
        "**Выводы**\n",
        "\n",
        "В каждой строке таблицы — данные о прослушанном треке. Часть колонок описывает саму композицию: название, исполнителя и жанр. Остальные данные рассказывают о пользователе: из какого он города, когда он слушал музыку. \n",
        "\n",
        "Предварительно можно утверждать, что, данных достаточно для проверки гипотез. Но встречаются пропуски в данных, а в названиях колонок — расхождения с хорошим стилем.\n",
        "\n",
        "Чтобы двигаться дальше, нужно устранить проблемы в данных."
      ]
    },
    {
      "cell_type": "markdown",
      "metadata": {
        "id": "SjYF6Ub9_Zct"
      },
      "source": [
        "## Предобработка данных\n",
        "Исправьте стиль в заголовках столбцов, исключите пропуски. Затем проверьте данные на дубликаты."
      ]
    },
    {
      "cell_type": "markdown",
      "metadata": {
        "id": "dIaKXr29_Zct"
      },
      "source": [
        "### Стиль заголовков"
      ]
    },
    {
      "cell_type": "code",
      "execution_count": null,
      "metadata": {
        "id": "oKOTdF_Q_Zct",
        "outputId": "27fd52f5-cf7f-485b-939e-b132fdcfc20a"
      },
      "outputs": [
        {
          "data": {
            "text/plain": [
              "Index(['  userID', 'Track', 'artist', 'genre', '  City  ', 'time', 'Day'], dtype='object')"
            ]
          },
          "execution_count": 28,
          "metadata": {},
          "output_type": "execute_result"
        }
      ],
      "source": [
        "df.columns # перечень названий столбцов таблицы df"
      ]
    },
    {
      "cell_type": "code",
      "execution_count": null,
      "metadata": {
        "id": "ISlFqs5y_Zct"
      },
      "outputs": [],
      "source": [
        "df = df.rename(columns={'  userID':'user_id', 'Track':'track', '  City  ':'city', 'Day':'day'})# переименование столбцов"
      ]
    },
    {
      "cell_type": "code",
      "execution_count": null,
      "metadata": {
        "id": "d4NOAmTW_Zct",
        "outputId": "7d33ea9e-7059-4a13-e4c9-44fcdc922f31"
      },
      "outputs": [
        {
          "data": {
            "text/plain": [
              "Index(['user_id', 'track', 'artist', 'genre', 'city', 'time', 'day'], dtype='object')"
            ]
          },
          "execution_count": 30,
          "metadata": {},
          "output_type": "execute_result"
        }
      ],
      "source": [
        "df.columns # проверка результатов - перечень названий столбцов"
      ]
    },
    {
      "cell_type": "markdown",
      "metadata": {
        "id": "5ISfbcfY_Zct"
      },
      "source": [
        "### Пропуски значений"
      ]
    },
    {
      "cell_type": "code",
      "execution_count": null,
      "metadata": {
        "id": "RskX29qr_Zct",
        "outputId": "c83d8f09-8882-4179-ac5c-5a5fd1ecc7e3"
      },
      "outputs": [
        {
          "data": {
            "text/plain": [
              "user_id       0\n",
              "track      1231\n",
              "artist     7203\n",
              "genre      1198\n",
              "city          0\n",
              "time          0\n",
              "day           0\n",
              "dtype: int64"
            ]
          },
          "execution_count": 31,
          "metadata": {},
          "output_type": "execute_result"
        }
      ],
      "source": [
        "df.isna().sum() # подсчёт пропусков"
      ]
    },
    {
      "cell_type": "code",
      "execution_count": null,
      "metadata": {
        "id": "KplB5qWs_Zct"
      },
      "outputs": [],
      "source": [
        "columns_to_replace = ['track', 'artist', 'genre']\n",
        "for column in columns_to_replace:\n",
        "    df[column] = df[column].fillna('unknown')\n",
        "    # перебор названий столбцов в цикле и замена пропущенных значений на 'unknown'"
      ]
    },
    {
      "cell_type": "code",
      "execution_count": null,
      "metadata": {
        "id": "Tq4nYRX4_Zct",
        "outputId": "993da937-8f93-40cf-f8dc-b899b71923fc"
      },
      "outputs": [
        {
          "data": {
            "text/plain": [
              "user_id    0\n",
              "track      0\n",
              "artist     0\n",
              "genre      0\n",
              "city       0\n",
              "time       0\n",
              "day        0\n",
              "dtype: int64"
            ]
          },
          "execution_count": 33,
          "metadata": {},
          "output_type": "execute_result"
        }
      ],
      "source": [
        "df.isna().sum() # подсчёт пропусков"
      ]
    },
    {
      "cell_type": "markdown",
      "metadata": {
        "id": "BWKRtBJ3_Zct"
      },
      "source": [
        "### Дубликаты"
      ]
    },
    {
      "cell_type": "code",
      "execution_count": null,
      "metadata": {
        "id": "36eES_S0_Zct",
        "outputId": "6657d6dc-1b0c-430c-b0e8-3e921bfafd28"
      },
      "outputs": [
        {
          "data": {
            "text/plain": [
              "3826"
            ]
          },
          "execution_count": 34,
          "metadata": {},
          "output_type": "execute_result"
        }
      ],
      "source": [
        "df.duplicated().sum() # подсчёт явных дубликатов"
      ]
    },
    {
      "cell_type": "code",
      "execution_count": null,
      "metadata": {
        "id": "exFHq6tt_Zct"
      },
      "outputs": [],
      "source": [
        "df = df.drop_duplicates().reset_index(drop=True) # удаление явных дубликатов (с удалением старых индексов и формированием новых)"
      ]
    },
    {
      "cell_type": "code",
      "execution_count": null,
      "metadata": {
        "id": "-8PuNWQ0_Zct",
        "outputId": "2e033d73-6cfd-4e6d-9154-766602bb8aca"
      },
      "outputs": [
        {
          "data": {
            "text/plain": [
              "0"
            ]
          },
          "execution_count": 36,
          "metadata": {},
          "output_type": "execute_result"
        }
      ],
      "source": [
        "df.duplicated().sum() # проверка на отсутствие дубликатов"
      ]
    },
    {
      "cell_type": "code",
      "execution_count": null,
      "metadata": {
        "id": "JIUcqzZN_Zct",
        "outputId": "38963e4f-403c-4455-d1b2-462e8ca07d0d"
      },
      "outputs": [
        {
          "data": {
            "text/plain": [
              "array(['acid', 'acoustic', 'action', 'adult', 'africa', 'afrikaans',\n",
              "       'alternative', 'alternativepunk', 'ambient', 'americana',\n",
              "       'animated', 'anime', 'arabesk', 'arabic', 'arena',\n",
              "       'argentinetango', 'art', 'audiobook', 'author', 'avantgarde',\n",
              "       'axé', 'baile', 'balkan', 'beats', 'bigroom', 'black', 'bluegrass',\n",
              "       'blues', 'bollywood', 'bossa', 'brazilian', 'breakbeat', 'breaks',\n",
              "       'broadway', 'cantautori', 'cantopop', 'canzone', 'caribbean',\n",
              "       'caucasian', 'celtic', 'chamber', 'chanson', 'children', 'chill',\n",
              "       'chinese', 'choral', 'christian', 'christmas', 'classical',\n",
              "       'classicmetal', 'club', 'colombian', 'comedy', 'conjazz',\n",
              "       'contemporary', 'country', 'cuban', 'dance', 'dancehall',\n",
              "       'dancepop', 'dark', 'death', 'deep', 'deutschrock', 'deutschspr',\n",
              "       'dirty', 'disco', 'dnb', 'documentary', 'downbeat', 'downtempo',\n",
              "       'drum', 'dub', 'dubstep', 'eastern', 'easy', 'electronic',\n",
              "       'electropop', 'emo', 'entehno', 'epicmetal', 'estrada', 'ethnic',\n",
              "       'eurofolk', 'european', 'experimental', 'extrememetal', 'fado',\n",
              "       'fairytail', 'film', 'fitness', 'flamenco', 'folk', 'folklore',\n",
              "       'folkmetal', 'folkrock', 'folktronica', 'forró', 'frankreich',\n",
              "       'französisch', 'french', 'funk', 'future', 'gangsta', 'garage',\n",
              "       'german', 'ghazal', 'gitarre', 'glitch', 'gospel', 'gothic',\n",
              "       'grime', 'grunge', 'gypsy', 'handsup', \"hard'n'heavy\", 'hardcore',\n",
              "       'hardstyle', 'hardtechno', 'hip', 'hip-hop', 'hiphop',\n",
              "       'historisch', 'holiday', 'hop', 'horror', 'house', 'hymn', 'idm',\n",
              "       'independent', 'indian', 'indie', 'indipop', 'industrial',\n",
              "       'inspirational', 'instrumental', 'international', 'irish', 'jam',\n",
              "       'japanese', 'jazz', 'jewish', 'jpop', 'jungle', 'k-pop',\n",
              "       'karadeniz', 'karaoke', 'kayokyoku', 'korean', 'laiko', 'latin',\n",
              "       'latino', 'leftfield', 'local', 'lounge', 'loungeelectronic',\n",
              "       'lovers', 'malaysian', 'mandopop', 'marschmusik', 'meditative',\n",
              "       'mediterranean', 'melodic', 'metal', 'metalcore', 'mexican',\n",
              "       'middle', 'minimal', 'miscellaneous', 'modern', 'mood', 'mpb',\n",
              "       'muslim', 'native', 'neoklassik', 'neue', 'new', 'newage',\n",
              "       'newwave', 'nu', 'nujazz', 'numetal', 'oceania', 'old', 'opera',\n",
              "       'orchestral', 'other', 'piano', 'podcasts', 'pop', 'popdance',\n",
              "       'popelectronic', 'popeurodance', 'poprussian', 'post',\n",
              "       'posthardcore', 'postrock', 'power', 'progmetal', 'progressive',\n",
              "       'psychedelic', 'punjabi', 'punk', 'quebecois', 'ragga', 'ram',\n",
              "       'rancheras', 'rap', 'rave', 'reggae', 'reggaeton', 'regional',\n",
              "       'relax', 'religious', 'retro', 'rhythm', 'rnb', 'rnr', 'rock',\n",
              "       'rockabilly', 'rockalternative', 'rockindie', 'rockother',\n",
              "       'romance', 'roots', 'ruspop', 'rusrap', 'rusrock', 'russian',\n",
              "       'salsa', 'samba', 'scenic', 'schlager', 'self', 'sertanejo',\n",
              "       'shanson', 'shoegazing', 'showtunes', 'singer', 'ska', 'skarock',\n",
              "       'slow', 'smooth', 'soft', 'soul', 'soulful', 'sound', 'soundtrack',\n",
              "       'southern', 'specialty', 'speech', 'spiritual', 'sport',\n",
              "       'stonerrock', 'surf', 'swing', 'synthpop', 'synthrock',\n",
              "       'sängerportrait', 'tango', 'tanzorchester', 'taraftar', 'tatar',\n",
              "       'tech', 'techno', 'teen', 'thrash', 'top', 'traditional',\n",
              "       'tradjazz', 'trance', 'tribal', 'trip', 'triphop', 'tropical',\n",
              "       'türk', 'türkçe', 'ukrrock', 'unknown', 'urban', 'uzbek',\n",
              "       'variété', 'vi', 'videogame', 'vocal', 'western', 'world',\n",
              "       'worldbeat', 'ïîï', 'электроника'], dtype=object)"
            ]
          },
          "execution_count": 37,
          "metadata": {},
          "output_type": "execute_result"
        }
      ],
      "source": [
        "df['genre'].sort_values().unique() # Просмотр уникальных названий жанров"
      ]
    },
    {
      "cell_type": "code",
      "execution_count": null,
      "metadata": {
        "id": "ErNDkmns_Zct"
      },
      "outputs": [],
      "source": [
        "def replace_wrong_genres(wrong_genres, correct_genre):\n",
        "    for wrong_genre in wrong_genres:\n",
        "        df['genre'] = df['genre'].replace(wrong_genres, correct_genre) # Функция для замены неявных дубликатов"
      ]
    },
    {
      "cell_type": "code",
      "execution_count": null,
      "metadata": {
        "id": "YN5i2hpmSo09"
      },
      "outputs": [],
      "source": [
        "duplicates = ['hip', 'hop', 'hip-hop']\n",
        "name = 'hiphop'\n",
        "replace_wrong_genres(duplicates, name) # Устранение неявных дубликатов"
      ]
    },
    {
      "cell_type": "code",
      "execution_count": null,
      "metadata": {
        "id": "wvixALnFG15m",
        "outputId": "44059e1d-b871-4fe5-94ed-8e45a16a52f5"
      },
      "outputs": [
        {
          "data": {
            "text/plain": [
              "array(['acid', 'acoustic', 'action', 'adult', 'africa', 'afrikaans',\n",
              "       'alternative', 'alternativepunk', 'ambient', 'americana',\n",
              "       'animated', 'anime', 'arabesk', 'arabic', 'arena',\n",
              "       'argentinetango', 'art', 'audiobook', 'author', 'avantgarde',\n",
              "       'axé', 'baile', 'balkan', 'beats', 'bigroom', 'black', 'bluegrass',\n",
              "       'blues', 'bollywood', 'bossa', 'brazilian', 'breakbeat', 'breaks',\n",
              "       'broadway', 'cantautori', 'cantopop', 'canzone', 'caribbean',\n",
              "       'caucasian', 'celtic', 'chamber', 'chanson', 'children', 'chill',\n",
              "       'chinese', 'choral', 'christian', 'christmas', 'classical',\n",
              "       'classicmetal', 'club', 'colombian', 'comedy', 'conjazz',\n",
              "       'contemporary', 'country', 'cuban', 'dance', 'dancehall',\n",
              "       'dancepop', 'dark', 'death', 'deep', 'deutschrock', 'deutschspr',\n",
              "       'dirty', 'disco', 'dnb', 'documentary', 'downbeat', 'downtempo',\n",
              "       'drum', 'dub', 'dubstep', 'eastern', 'easy', 'electronic',\n",
              "       'electropop', 'emo', 'entehno', 'epicmetal', 'estrada', 'ethnic',\n",
              "       'eurofolk', 'european', 'experimental', 'extrememetal', 'fado',\n",
              "       'fairytail', 'film', 'fitness', 'flamenco', 'folk', 'folklore',\n",
              "       'folkmetal', 'folkrock', 'folktronica', 'forró', 'frankreich',\n",
              "       'französisch', 'french', 'funk', 'future', 'gangsta', 'garage',\n",
              "       'german', 'ghazal', 'gitarre', 'glitch', 'gospel', 'gothic',\n",
              "       'grime', 'grunge', 'gypsy', 'handsup', \"hard'n'heavy\", 'hardcore',\n",
              "       'hardstyle', 'hardtechno', 'hiphop', 'historisch', 'holiday',\n",
              "       'horror', 'house', 'hymn', 'idm', 'independent', 'indian', 'indie',\n",
              "       'indipop', 'industrial', 'inspirational', 'instrumental',\n",
              "       'international', 'irish', 'jam', 'japanese', 'jazz', 'jewish',\n",
              "       'jpop', 'jungle', 'k-pop', 'karadeniz', 'karaoke', 'kayokyoku',\n",
              "       'korean', 'laiko', 'latin', 'latino', 'leftfield', 'local',\n",
              "       'lounge', 'loungeelectronic', 'lovers', 'malaysian', 'mandopop',\n",
              "       'marschmusik', 'meditative', 'mediterranean', 'melodic', 'metal',\n",
              "       'metalcore', 'mexican', 'middle', 'minimal', 'miscellaneous',\n",
              "       'modern', 'mood', 'mpb', 'muslim', 'native', 'neoklassik', 'neue',\n",
              "       'new', 'newage', 'newwave', 'nu', 'nujazz', 'numetal', 'oceania',\n",
              "       'old', 'opera', 'orchestral', 'other', 'piano', 'podcasts', 'pop',\n",
              "       'popdance', 'popelectronic', 'popeurodance', 'poprussian', 'post',\n",
              "       'posthardcore', 'postrock', 'power', 'progmetal', 'progressive',\n",
              "       'psychedelic', 'punjabi', 'punk', 'quebecois', 'ragga', 'ram',\n",
              "       'rancheras', 'rap', 'rave', 'reggae', 'reggaeton', 'regional',\n",
              "       'relax', 'religious', 'retro', 'rhythm', 'rnb', 'rnr', 'rock',\n",
              "       'rockabilly', 'rockalternative', 'rockindie', 'rockother',\n",
              "       'romance', 'roots', 'ruspop', 'rusrap', 'rusrock', 'russian',\n",
              "       'salsa', 'samba', 'scenic', 'schlager', 'self', 'sertanejo',\n",
              "       'shanson', 'shoegazing', 'showtunes', 'singer', 'ska', 'skarock',\n",
              "       'slow', 'smooth', 'soft', 'soul', 'soulful', 'sound', 'soundtrack',\n",
              "       'southern', 'specialty', 'speech', 'spiritual', 'sport',\n",
              "       'stonerrock', 'surf', 'swing', 'synthpop', 'synthrock',\n",
              "       'sängerportrait', 'tango', 'tanzorchester', 'taraftar', 'tatar',\n",
              "       'tech', 'techno', 'teen', 'thrash', 'top', 'traditional',\n",
              "       'tradjazz', 'trance', 'tribal', 'trip', 'triphop', 'tropical',\n",
              "       'türk', 'türkçe', 'ukrrock', 'unknown', 'urban', 'uzbek',\n",
              "       'variété', 'vi', 'videogame', 'vocal', 'western', 'world',\n",
              "       'worldbeat', 'ïîï', 'электроника'], dtype=object)"
            ]
          },
          "execution_count": 40,
          "metadata": {},
          "output_type": "execute_result"
        }
      ],
      "source": [
        "df['genre'].sort_values().unique() # Проверка на неявные дубликаты"
      ]
    },
    {
      "cell_type": "markdown",
      "metadata": {
        "id": "jz6a9-7HQUDd"
      },
      "source": [
        "**Выводы**\n",
        "\n",
        "Предобработка обнаружила три проблемы в данных:\n",
        "\n",
        "- нарушения в стиле заголовков,\n",
        "- пропущенные значения,\n",
        "- дубликаты — явные и неявные.\n",
        "\n",
        "Были исправлены заголовки, чтобы упростить работу с таблицей.\n",
        "\n",
        "Пропущенные значения заменены на `'unknown'`. Ещё предстоит увидеть, не повредят ли исследованию пропуски в колонке `genre`.\n",
        "\n",
        "Теперь можно перейти к проверке гипотез. "
      ]
    },
    {
      "cell_type": "markdown",
      "metadata": {
        "id": "WttZHXH0SqKk"
      },
      "source": [
        "## Проверка гипотез"
      ]
    },
    {
      "cell_type": "markdown",
      "metadata": {
        "id": "Im936VVi_Zcu"
      },
      "source": [
        "### Сравнение поведения пользователей двух столиц"
      ]
    },
    {
      "cell_type": "markdown",
      "metadata": {
        "id": "nwt_MuaL_Zcu"
      },
      "source": [
        "Первая гипотеза утверждает, что пользователи по-разному слушают музыку в Москве и Санкт-Петербурге. Проверим это предположение по данным о трёх днях недели — понедельнике, среде и пятнице. Для этого:\n",
        "\n",
        "* Разделим пользователей Москвы и Санкт-Петербурга\n",
        "* Сравним, сколько треков послушала каждая группа пользователей в понедельник, среду и пятницу.\n"
      ]
    },
    {
      "cell_type": "markdown",
      "metadata": {
        "id": "8Dw_YMmT_Zcu"
      },
      "source": [
        "Для тренировки сначала выполните каждый из расчётов по отдельности. \n",
        "\n",
        "Оцените активность пользователей в каждом городе. Сгруппируйте данные по городу и посчитайте прослушивания в каждой группе.\n",
        "\n"
      ]
    },
    {
      "cell_type": "code",
      "execution_count": null,
      "metadata": {
        "id": "0_Qs96oh_Zcu",
        "outputId": "64c3db92-158d-41cf-cc10-241e74aec15e"
      },
      "outputs": [
        {
          "data": {
            "text/plain": [
              "day\n",
              "Friday       21840\n",
              "Monday       21354\n",
              "Wednesday    18059\n",
              "Name: user_id, dtype: int64"
            ]
          },
          "execution_count": 45,
          "metadata": {},
          "output_type": "execute_result"
        }
      ],
      "source": [
        "df.groupby('day')['user_id'].count() # Подсчёт прослушиваний в каждом городе"
      ]
    },
    {
      "cell_type": "markdown",
      "metadata": {
        "id": "dzli3w8o_Zcu"
      },
      "source": [
        "В Москве прослушиваний больше, чем в Петербурге. Из этого не следует, что московские пользователи чаще слушают музыку. Просто самих пользователей в Москве больше.\n",
        "\n",
        "Теперь сгруппируем данные по дню недели и подсчитаем прослушивания в понедельник, среду и пятницу.\n"
      ]
    },
    {
      "cell_type": "code",
      "execution_count": null,
      "metadata": {
        "id": "uZMKjiJz_Zcu",
        "outputId": "502053bb-640f-461f-ac5e-6dab6b2f193c"
      },
      "outputs": [
        {
          "data": {
            "text/plain": [
              "day\n",
              "Friday       21840\n",
              "Monday       21354\n",
              "Wednesday    18059\n",
              "Name: user_id, dtype: int64"
            ]
          },
          "execution_count": 47,
          "metadata": {},
          "output_type": "execute_result"
        }
      ],
      "source": [
        "df.groupby('day')['user_id'].count()\n",
        "# Подсчёт прослушиваний в каждый из трёх дней"
      ]
    },
    {
      "cell_type": "markdown",
      "metadata": {
        "id": "cC2tNrlL_Zcu"
      },
      "source": [
        "В среднем пользователи из двух городов менее активны по средам. Но картина может измениться, если рассмотреть каждый город в отдельности."
      ]
    },
    {
      "cell_type": "code",
      "execution_count": null,
      "metadata": {
        "id": "Nz3GdQB1_Zcu"
      },
      "outputs": [],
      "source": [
        "def number_tracks(day, city):\n",
        "    track_list = df[(df['day'] == day) & (df['city'] == city)]\n",
        "    track_list_count = track_list['user_id'].count()\n",
        "    return track_list_count # <создание функции number_tracks()>\n",
        "# Объявляется функция с двумя параметрами: day, city.\n",
        "# В переменной track_list сохраняются те строки таблицы df, для которых \n",
        "# значение в столбце 'day' равно параметру day и одновременно значение\n",
        "# в столбце 'city' равно параметру city (используйте последовательную фильтрацию\n",
        "# с помощью логической индексации).\n",
        "# В переменной track_list_count сохраняется число значений столбца 'user_id',\n",
        "# рассчитанное методом count() для таблицы track_list.\n",
        "# Функция возвращает число - значение track_list_count.\n",
        "\n",
        "# Функция для подсчёта прослушиваний для конкретного города и дня.\n",
        "# С помощью последовательной фильтрации с логической индексацией она \n",
        "# сначала получит из исходной таблицы строки с нужным днём,\n",
        "# затем из результата отфильтрует строки с нужным городом,\n",
        "# методом count() посчитает количество значений в колонке user_id. \n",
        "# Это количество функция вернёт в качестве результата"
      ]
    },
    {
      "cell_type": "markdown",
      "metadata": {
        "id": "ytf7xFrFJQ2r"
      },
      "source": [
        "Вызовем `number_tracks()` шесть раз, меняя значение параметров — так, чтобы получить данные для каждого города в каждый из трёх дней."
      ]
    },
    {
      "cell_type": "code",
      "execution_count": null,
      "metadata": {
        "id": "rJcRATNQ_Zcu",
        "outputId": "c15d9506-d9ce-4a23-fc03-84d7f0fb0a1b"
      },
      "outputs": [
        {
          "data": {
            "text/plain": [
              "15740"
            ]
          },
          "execution_count": 49,
          "metadata": {},
          "output_type": "execute_result"
        }
      ],
      "source": [
        "day = 'Monday'\n",
        "city = 'Moscow'\n",
        "number_tracks(day, city) # количество прослушиваний в Москве по понедельникам"
      ]
    },
    {
      "cell_type": "code",
      "execution_count": null,
      "metadata": {
        "id": "hq_ncZ5T_Zcu",
        "outputId": "ffc34a03-18b5-4a47-8178-02009cd878eb"
      },
      "outputs": [
        {
          "data": {
            "text/plain": [
              "5614"
            ]
          },
          "execution_count": 50,
          "metadata": {},
          "output_type": "execute_result"
        }
      ],
      "source": [
        "day = 'Monday'\n",
        "city = 'Saint-Petersburg'\n",
        "number_tracks(day, city) # количество прослушиваний в Санкт-Петербурге по понедельникам"
      ]
    },
    {
      "cell_type": "code",
      "execution_count": null,
      "metadata": {
        "id": "_NTy2VPU_Zcu",
        "outputId": "8815c370-15c2-47e5-edd7-06b969aa16fb"
      },
      "outputs": [
        {
          "data": {
            "text/plain": [
              "11056"
            ]
          },
          "execution_count": 51,
          "metadata": {},
          "output_type": "execute_result"
        }
      ],
      "source": [
        "day = 'Wednesday'\n",
        "city = 'Moscow'\n",
        "number_tracks(day, city) # количество прослушиваний в Москве по средам"
      ]
    },
    {
      "cell_type": "code",
      "execution_count": null,
      "metadata": {
        "id": "j2y3TAwo_Zcu",
        "outputId": "92fb0f6a-9220-4bbd-b13a-d723feb40e11"
      },
      "outputs": [
        {
          "data": {
            "text/plain": [
              "7003"
            ]
          },
          "execution_count": 52,
          "metadata": {},
          "output_type": "execute_result"
        }
      ],
      "source": [
        "day = 'Wednesday'\n",
        "city = 'Saint-Petersburg'\n",
        "number_tracks(day, city) # количество прослушиваний в Санкт-Петербурге по средам"
      ]
    },
    {
      "cell_type": "code",
      "execution_count": null,
      "metadata": {
        "id": "vYDw5u_K_Zcu",
        "outputId": "f7bf2983-7e82-4b5c-f88e-0c5c131df907"
      },
      "outputs": [
        {
          "data": {
            "text/plain": [
              "15945"
            ]
          },
          "execution_count": 53,
          "metadata": {},
          "output_type": "execute_result"
        }
      ],
      "source": [
        "day = 'Friday'\n",
        "city = 'Moscow'\n",
        "number_tracks(day, city) # количество прослушиваний в Москве по пятницам"
      ]
    },
    {
      "cell_type": "code",
      "execution_count": null,
      "metadata": {
        "id": "8_yzFtW3_Zcu",
        "outputId": "66170e6f-5ee9-40d3-d538-1d63172ec21b"
      },
      "outputs": [
        {
          "data": {
            "text/plain": [
              "5895"
            ]
          },
          "execution_count": 54,
          "metadata": {},
          "output_type": "execute_result"
        }
      ],
      "source": [
        "day = 'Friday'\n",
        "city = 'Saint-Petersburg'\n",
        "number_tracks(day, city) # количество прослушиваний в Санкт-Петербурге по пятницам"
      ]
    },
    {
      "cell_type": "markdown",
      "metadata": {
        "id": "7QXffbO-_Zcu"
      },
      "source": [
        "Создаем c помощью конструктора `pd.DataFrame` таблицу, где\n",
        "* названия колонок — `['city', 'monday', 'wednesday', 'friday']`;\n",
        "* данные — результаты, которые мы получили с помощью `number_tracks`."
      ]
    },
    {
      "cell_type": "code",
      "execution_count": null,
      "metadata": {
        "id": "APAcLpOr_Zcu",
        "outputId": "6a7dec2b-bff1-486d-bcb3-272d57b19d78"
      },
      "outputs": [
        {
          "data": {
            "text/html": [
              "<div>\n",
              "<style scoped>\n",
              "    .dataframe tbody tr th:only-of-type {\n",
              "        vertical-align: middle;\n",
              "    }\n",
              "\n",
              "    .dataframe tbody tr th {\n",
              "        vertical-align: top;\n",
              "    }\n",
              "\n",
              "    .dataframe thead th {\n",
              "        text-align: right;\n",
              "    }\n",
              "</style>\n",
              "<table border=\"1\" class=\"dataframe\">\n",
              "  <thead>\n",
              "    <tr style=\"text-align: right;\">\n",
              "      <th></th>\n",
              "      <th>city</th>\n",
              "      <th>monday</th>\n",
              "      <th>wednesday</th>\n",
              "      <th>friday</th>\n",
              "    </tr>\n",
              "  </thead>\n",
              "  <tbody>\n",
              "    <tr>\n",
              "      <td>0</td>\n",
              "      <td>Moscow</td>\n",
              "      <td>15740</td>\n",
              "      <td>11056</td>\n",
              "      <td>15945</td>\n",
              "    </tr>\n",
              "    <tr>\n",
              "      <td>1</td>\n",
              "      <td>Saint-Petersburg</td>\n",
              "      <td>5614</td>\n",
              "      <td>7003</td>\n",
              "      <td>5895</td>\n",
              "    </tr>\n",
              "  </tbody>\n",
              "</table>\n",
              "</div>"
            ],
            "text/plain": [
              "               city  monday  wednesday  friday\n",
              "0            Moscow   15740      11056   15945\n",
              "1  Saint-Petersburg    5614       7003    5895"
            ]
          },
          "metadata": {},
          "output_type": "display_data"
        }
      ],
      "source": [
        "columns = ['city', 'monday', 'wednesday', 'friday']\n",
        "data = [['Moscow', 15740, 11056, 15945],\n",
        "       ['Saint-Petersburg', 5614, 7003, 5895]]\n",
        "df_day_city = pd.DataFrame(data=data, columns=columns)\n",
        "display(df_day_city) # Таблица с результатами"
      ]
    },
    {
      "cell_type": "markdown",
      "metadata": {
        "id": "-EgPIHYu_Zcu"
      },
      "source": [
        "**Выводы**\n",
        "\n",
        "Данные показывают разницу поведения пользователей:\n",
        "\n",
        "- В Москве пик прослушиваний приходится на понедельник и пятницу, а в среду заметен спад.\n",
        "- В Петербурге, наоборот, больше слушают музыку по средам. Активность в понедельник и пятницу здесь почти в равной мере уступает среде.\n",
        "\n",
        "Значит, данные говорят в пользу первой гипотезы."
      ]
    },
    {
      "cell_type": "markdown",
      "metadata": {
        "id": "atZAxtq4_Zcu"
      },
      "source": [
        "### Музыка в начале и в конце недели"
      ]
    },
    {
      "cell_type": "markdown",
      "metadata": {
        "id": "eXrQqXFH_Zcu"
      },
      "source": [
        "Согласно второй гипотезе, утром в понедельник в Москве преобладают одни жанры, а в Петербурге — другие. Так же и вечером пятницы преобладают разные жанры — в зависимости от города."
      ]
    },
    {
      "cell_type": "markdown",
      "metadata": {
        "id": "S8UcW6Hw_Zcu"
      },
      "source": [
        "Сохраним таблицы с данными в две переменные:\n",
        "* по Москве — в `moscow_general`;\n",
        "* по Санкт-Петербургу — в `spb_general`."
      ]
    },
    {
      "cell_type": "code",
      "execution_count": null,
      "metadata": {
        "id": "qeaFfM_P_Zcu"
      },
      "outputs": [],
      "source": [
        "moscow_general = df[df['city'] == 'Moscow']\n",
        "# получение таблицы moscow_general из тех строк таблицы df, \n",
        "# для которых значение в столбце 'city' равно 'Moscow'\n"
      ]
    },
    {
      "cell_type": "code",
      "execution_count": null,
      "metadata": {
        "id": "ORaVRKto_Zcu"
      },
      "outputs": [],
      "source": [
        "spb_general = df[df['city'] == 'Saint-Petersburg']\n",
        "# получение таблицы spb_general из тех строк таблицы df,\n",
        "# для которых значение в столбце 'city' равно 'Saint-Petersburg'"
      ]
    },
    {
      "cell_type": "markdown",
      "metadata": {
        "id": "MEJV-CX2_Zcu"
      },
      "source": [
        "Создаем функцию `genre_weekday()` с четырьмя параметрами:\n",
        "* таблица (датафрейм) с данными,\n",
        "* день недели,\n",
        "* начальная временная метка в формате 'hh:mm', \n",
        "* последняя временная метка в формате 'hh:mm'.\n",
        "\n",
        "Функция должна вернуть информацию о топ-10 жанров тех треков, которые прослушивали в указанный день, в промежутке между двумя отметками времени."
      ]
    },
    {
      "cell_type": "code",
      "execution_count": null,
      "metadata": {
        "id": "laJT9BYl_Zcu"
      },
      "outputs": [],
      "source": [
        "def genre_weekday(table, day, time1, time2):\n",
        "    genre_df = table[(table['day'] == day) & (table['time'] > time1) & (table['time'] < time2)]\n",
        "    genre_df_count = genre_df.groupby('genre')['day'].count()\n",
        "    genre_df_sorted = genre_df_count.sort_values(ascending=False)\n",
        "    return genre_df_sorted.head(10)\n",
        "    # Объявление функции genre_weekday() с параметрами table, day, time1, time2,\n",
        "# которая возвращает информацию о самых популярных жанрах в указанный день в\n",
        "# заданное время:\n",
        "# 1) в переменную genre_df сохраняются те строки переданного датафрейма table, для\n",
        "#    которых одновременно:\n",
        "#    - значение в столбце day равно значению аргумента day\n",
        "#    - значение в столбце time больше значения аргумента time1\n",
        "#    - значение в столбце time меньше значения аргумента time2\n",
        "#    Используем последовательную фильтрацию с помощью логической индексации.\n",
        "# 2) сгруппировать датафрейм genre_df по столбцу genre, взять один из его\n",
        "#    столбцов и посчитать методом count() количество записей для каждого из\n",
        "#    присутствующих жанров, получившийся Series записать в переменную\n",
        "#    genre_df_count\n",
        "# 3) отсортировать genre_df_count по убыванию встречаемости и сохранить\n",
        "#    в переменную genre_df_sorted\n",
        "# 4) вернуть Series из 10 первых значений genre_df_sorted, это будут топ-10\n",
        "#    популярных жанров (в указанный день, в заданное время)"
      ]
    },
    {
      "cell_type": "markdown",
      "metadata": {
        "id": "la2s2_PF_Zcu"
      },
      "source": [
        "Cравним результаты функции `genre_weekday()` для Москвы и Санкт-Петербурга в понедельник утром (с 7:00 до 11:00) и в пятницу вечером (с 17:00 до 23:00):"
      ]
    },
    {
      "cell_type": "code",
      "execution_count": null,
      "metadata": {
        "id": "yz7itPUQ_Zcu",
        "outputId": "8b72ed90-edfc-4977-eaaa-c819068b526c"
      },
      "outputs": [
        {
          "data": {
            "text/plain": [
              "genre\n",
              "pop            781\n",
              "dance          549\n",
              "electronic     480\n",
              "rock           474\n",
              "hiphop         286\n",
              "ruspop         186\n",
              "world          181\n",
              "rusrap         175\n",
              "alternative    164\n",
              "unknown        161\n",
              "Name: day, dtype: int64"
            ]
          },
          "execution_count": 91,
          "metadata": {},
          "output_type": "execute_result"
        }
      ],
      "source": [
        "genre_weekday(moscow_general, 'Monday', '07:00', '11:00') # вызов функции для утра понедельника в Москве (вместо df — таблица moscow_general)\n",
        "# объекты, хранящие время, являются строками и сравниваются как строки\n",
        "# пример вызова: genre_weekday(moscow_general, 'Monday', '07:00', '11:00')"
      ]
    },
    {
      "cell_type": "code",
      "execution_count": null,
      "metadata": {
        "id": "kwUcHPdy_Zcu",
        "outputId": "61c788aa-c2be-459d-d45e-b2e4c05f60e7"
      },
      "outputs": [
        {
          "data": {
            "text/plain": [
              "genre\n",
              "pop            218\n",
              "dance          182\n",
              "rock           162\n",
              "electronic     147\n",
              "hiphop          80\n",
              "ruspop          64\n",
              "alternative     58\n",
              "rusrap          55\n",
              "jazz            44\n",
              "classical       40\n",
              "Name: day, dtype: int64"
            ]
          },
          "execution_count": 92,
          "metadata": {},
          "output_type": "execute_result"
        }
      ],
      "source": [
        "genre_weekday(spb_general, 'Monday', '07:00', '11:00') # вызов функции для утра понедельника в Петербурге (вместо df — таблица spb_general)"
      ]
    },
    {
      "cell_type": "code",
      "execution_count": null,
      "metadata": {
        "id": "EzXVRE1o_Zcu",
        "outputId": "2d937856-328b-4912-a6d0-50a4092baa7e"
      },
      "outputs": [
        {
          "data": {
            "text/plain": [
              "genre\n",
              "pop            713\n",
              "rock           517\n",
              "dance          495\n",
              "electronic     482\n",
              "hiphop         273\n",
              "world          208\n",
              "ruspop         170\n",
              "alternative    163\n",
              "classical      163\n",
              "rusrap         142\n",
              "Name: day, dtype: int64"
            ]
          },
          "execution_count": 93,
          "metadata": {},
          "output_type": "execute_result"
        }
      ],
      "source": [
        "genre_weekday(moscow_general, 'Friday', '17:00', '23:00') # вызов функции для вечера пятницы в Москве"
      ]
    },
    {
      "cell_type": "code",
      "execution_count": null,
      "metadata": {
        "id": "JZaEKu5v_Zcu",
        "outputId": "ef9853d2-30d3-456f-d1e4-ffd0682508c5"
      },
      "outputs": [
        {
          "data": {
            "text/plain": [
              "genre\n",
              "pop            256\n",
              "rock           216\n",
              "electronic     216\n",
              "dance          210\n",
              "hiphop          97\n",
              "alternative     63\n",
              "jazz            61\n",
              "classical       60\n",
              "rusrap          59\n",
              "world           54\n",
              "Name: day, dtype: int64"
            ]
          },
          "execution_count": 94,
          "metadata": {},
          "output_type": "execute_result"
        }
      ],
      "source": [
        "genre_weekday(spb_general, 'Friday', '17:00', '23:00') # вызов функции для вечера пятницы в Петербурге"
      ]
    },
    {
      "cell_type": "markdown",
      "metadata": {
        "id": "wrCe4MNX_Zcu"
      },
      "source": [
        "**Выводы**\n",
        "\n",
        "Если сравнить топ-10 жанров в понедельник утром, можно сделать такие выводы:\n",
        "\n",
        "1. В Москве и Петербурге слушают похожую музыку. Единственное отличие — в московский рейтинг вошёл жанр “world”, а в петербургский — джаз и классика.\n",
        "\n",
        "2. В Москве пропущенных значений оказалось так много, что значение `'unknown'` заняло десятое место среди самых популярных жанров. Значит, пропущенные значения занимают существенную долю в данных и угрожают достоверности исследования.\n",
        "\n",
        "Вечер пятницы не меняет эту картину. Некоторые жанры поднимаются немного выше, другие спускаются, но в целом топ-10 остаётся тем же самым.\n",
        "\n",
        "Таким образом, вторая гипотеза подтвердилась лишь частично:\n",
        "* Пользователи слушают похожую музыку в начале недели и в конце.\n",
        "* Разница между Москвой и Петербургом не слишком выражена. В Москве чаще слушают русскую популярную музыку, в Петербурге — джаз.\n",
        "\n",
        "Однако пропуски в данных ставят под сомнение этот результат. В Москве их так много, что рейтинг топ-10 мог бы выглядеть иначе, если бы не утерянные  данные о жанрах."
      ]
    },
    {
      "cell_type": "markdown",
      "metadata": {
        "id": "JolODAqr_Zcu"
      },
      "source": [
        "### Жанровые предпочтения в Москве и Петербурге\n",
        "\n",
        "Гипотеза: Петербург — столица рэпа, музыку этого жанра там слушают чаще, чем в Москве.  А Москва — город контрастов, в котором, тем не менее, преобладает поп-музыка."
      ]
    },
    {
      "cell_type": "markdown",
      "metadata": {
        "id": "DlegSvaT_Zcu"
      },
      "source": [
        "Сгруппируем таблицу `moscow_general` по жанру и посчитайте прослушивания треков каждого жанра методом `count()`. Затем отсортируйте результат в порядке убывания и сохраните его в таблице `moscow_genres`."
      ]
    },
    {
      "cell_type": "code",
      "execution_count": null,
      "metadata": {
        "id": "r19lIPke_Zcu"
      },
      "outputs": [],
      "source": [
        "moscow_genres = moscow_general.groupby('genre')['track'].count().sort_values(ascending=False) # одной строкой: группировка таблицы moscow_general по столбцу 'genre', \n",
        "# подсчёт числа значений 'genre' в этой группировке методом count(), \n",
        "# сортировка получившегося Series в порядке убывания и сохранение в moscow_genres"
      ]
    },
    {
      "cell_type": "markdown",
      "metadata": {
        "id": "6kMuomxTiIr8"
      },
      "source": [
        "Выведем на экран первые десять строк `moscow_genres`:"
      ]
    },
    {
      "cell_type": "code",
      "execution_count": null,
      "metadata": {
        "id": "WhCSooF8_Zcv",
        "outputId": "87464857-fab1-4bbc-9896-1e9d2de849ff"
      },
      "outputs": [
        {
          "data": {
            "text/plain": [
              "genre\n",
              "pop            5892\n",
              "dance          4435\n",
              "rock           3965\n",
              "electronic     3786\n",
              "hiphop         2096\n",
              "classical      1616\n",
              "world          1432\n",
              "alternative    1379\n",
              "ruspop         1372\n",
              "rusrap         1161\n",
              "Name: track, dtype: int64"
            ]
          },
          "metadata": {},
          "output_type": "display_data"
        }
      ],
      "source": [
        "display(moscow_genres.head(10)) # просмотр первых 10 строк moscow_genres"
      ]
    },
    {
      "cell_type": "markdown",
      "metadata": {
        "id": "cnPG2vnN_Zcv"
      },
      "source": [
        "Теперь повторим то же и для Петербурга.\n",
        "\n",
        "Сгруппируем таблицу `spb_general` по жанру. Посчитаем прослушивания треков каждого жанра. Результат отсортируем в порядке убывания и сохраним в таблице `spb_genres`:\n"
      ]
    },
    {
      "cell_type": "code",
      "execution_count": null,
      "metadata": {
        "id": "gluLIpE7_Zcv"
      },
      "outputs": [],
      "source": [
        "spb_genres = spb_general.groupby('genre')['track'].count().sort_values(ascending=False) # одной строкой: группировка таблицы spb_general по столбцу 'genre', \n",
        "# подсчёт числа значений 'genre' в этой группировке методом count(), \n",
        "# сортировка получившегося Series в порядке убывания и сохранение в spb_genres"
      ]
    },
    {
      "cell_type": "markdown",
      "metadata": {
        "id": "5Doha_ODgyQ8"
      },
      "source": [
        "Выведем на экран первые десять строк `spb_genres`:"
      ]
    },
    {
      "cell_type": "code",
      "execution_count": null,
      "metadata": {
        "id": "uaGJHjVU_Zcv",
        "outputId": "5abd0745-8ddf-442a-c784-b43547002371"
      },
      "outputs": [
        {
          "data": {
            "text/plain": [
              "genre\n",
              "pop            2431\n",
              "dance          1932\n",
              "rock           1879\n",
              "electronic     1736\n",
              "hiphop          960\n",
              "alternative     649\n",
              "classical       646\n",
              "rusrap          564\n",
              "ruspop          538\n",
              "world           515\n",
              "Name: track, dtype: int64"
            ]
          },
          "metadata": {},
          "output_type": "display_data"
        }
      ],
      "source": [
        "display(spb_genres.head(10)) # просмотр первых 10 строк spb_genres"
      ]
    },
    {
      "cell_type": "markdown",
      "metadata": {
        "id": "RY51YJYu_Zcv"
      },
      "source": [
        "**Выводы**"
      ]
    },
    {
      "cell_type": "markdown",
      "metadata": {
        "id": "nVhnJEm__Zcv"
      },
      "source": [
        "Гипотеза частично подтвердилась:\n",
        "* Поп-музыка — самый популярный жанр в Москве, как и предполагала гипотеза. Более того, в топ-10 жанров встречается близкий жанр — русская популярная музыка.\n",
        "* Вопреки ожиданиям, рэп одинаково популярен в Москве и Петербурге. \n"
      ]
    },
    {
      "cell_type": "markdown",
      "metadata": {
        "id": "ykKQ0N65_Zcv"
      },
      "source": [
        "## Итоги исследования"
      ]
    },
    {
      "cell_type": "markdown",
      "metadata": {
        "id": "tjUwbHb3_Zcv"
      },
      "source": [
        "Мы проверили три гипотезы и установили:\n",
        "\n",
        "1. День недели по-разному влияет на активность пользователей в Москве и Петербурге. \n",
        "\n",
        "Первая гипотеза полностью подтвердилась.\n",
        "\n",
        "2. Музыкальные предпочтения не сильно меняются в течение недели — будь то Москва или Петербург. Небольшие различия заметны в начале недели, по понедельникам:\n",
        "* в Москве слушают музыку жанра “world”,\n",
        "* в Петербурге — джаз и классику.\n",
        "\n",
        "Таким образом, вторая гипотеза подтвердилась лишь отчасти. Этот результат мог оказаться иным, если бы не пропуски в данных.\n",
        "\n",
        "3. Во вкусах пользователей Москвы и Петербурга больше общего чем различий. Вопреки ожиданиям, предпочтения жанров в Петербурге напоминают московские.\n",
        "\n",
        "Третья гипотеза не подтвердилась. Если различия в предпочтениях и существуют, на основной массе пользователей они незаметны."
      ]
    }
  ],
  "metadata": {
    "ExecuteTimeLog": [
      {
        "duration": 745,
        "start_time": "2022-02-12T12:40:20.926Z"
      },
      {
        "duration": 336,
        "start_time": "2022-02-12T12:41:26.474Z"
      },
      {
        "duration": 227,
        "start_time": "2022-02-12T12:43:39.541Z"
      },
      {
        "duration": 26,
        "start_time": "2022-02-12T12:44:15.609Z"
      },
      {
        "duration": 30,
        "start_time": "2022-02-12T12:45:17.930Z"
      },
      {
        "duration": 5,
        "start_time": "2022-02-12T12:50:19.726Z"
      },
      {
        "duration": 67,
        "start_time": "2022-02-12T12:53:22.666Z"
      },
      {
        "duration": 5,
        "start_time": "2022-02-12T12:53:43.317Z"
      },
      {
        "duration": 27,
        "start_time": "2022-02-12T12:57:53.720Z"
      },
      {
        "duration": 5,
        "start_time": "2022-02-12T12:57:58.390Z"
      },
      {
        "duration": 43,
        "start_time": "2022-02-12T12:59:05.674Z"
      },
      {
        "duration": 71,
        "start_time": "2022-02-12T12:59:22.410Z"
      },
      {
        "duration": 33,
        "start_time": "2022-02-12T12:59:32.286Z"
      },
      {
        "duration": 39,
        "start_time": "2022-02-12T13:03:42.748Z"
      },
      {
        "duration": 30,
        "start_time": "2022-02-12T13:04:24.640Z"
      },
      {
        "duration": 235,
        "start_time": "2022-02-12T13:07:02.786Z"
      },
      {
        "duration": 228,
        "start_time": "2022-02-12T13:07:27.430Z"
      },
      {
        "duration": 224,
        "start_time": "2022-02-12T13:13:37.554Z"
      },
      {
        "duration": 22,
        "start_time": "2022-02-12T13:19:06.250Z"
      },
      {
        "duration": 30,
        "start_time": "2022-02-12T13:19:35.788Z"
      },
      {
        "duration": 78,
        "start_time": "2022-02-12T13:20:59.256Z"
      },
      {
        "duration": 94,
        "start_time": "2022-02-12T13:22:02.475Z"
      },
      {
        "duration": 71,
        "start_time": "2022-02-12T13:22:17.519Z"
      },
      {
        "duration": 258,
        "start_time": "2022-02-12T13:25:33.745Z"
      },
      {
        "duration": 11,
        "start_time": "2022-02-12T13:26:06.506Z"
      },
      {
        "duration": 74,
        "start_time": "2022-02-12T13:27:24.847Z"
      },
      {
        "duration": 60,
        "start_time": "2022-02-12T13:27:41.414Z"
      },
      {
        "duration": 3,
        "start_time": "2022-02-12T13:34:14.852Z"
      },
      {
        "duration": 238,
        "start_time": "2022-02-12T13:36:41.737Z"
      },
      {
        "duration": 4,
        "start_time": "2022-02-12T13:36:49.552Z"
      },
      {
        "duration": 456,
        "start_time": "2022-02-12T13:36:52.204Z"
      },
      {
        "duration": 4,
        "start_time": "2022-02-12T13:38:49.780Z"
      },
      {
        "duration": 33,
        "start_time": "2022-02-12T13:39:07.910Z"
      },
      {
        "duration": 59,
        "start_time": "2022-02-12T13:39:34.102Z"
      },
      {
        "duration": 127,
        "start_time": "2022-02-12T13:47:50.368Z"
      },
      {
        "duration": 37,
        "start_time": "2022-02-12T13:48:39.302Z"
      },
      {
        "duration": 1189,
        "start_time": "2022-02-12T13:54:34.881Z"
      },
      {
        "duration": 6311,
        "start_time": "2022-02-12T13:55:13.611Z"
      },
      {
        "duration": 29,
        "start_time": "2022-02-12T13:55:58.575Z"
      },
      {
        "duration": 70,
        "start_time": "2022-02-12T13:57:08.320Z"
      },
      {
        "duration": 233,
        "start_time": "2022-02-12T13:58:20.966Z"
      },
      {
        "duration": 73,
        "start_time": "2022-02-12T13:58:35.060Z"
      },
      {
        "duration": 116,
        "start_time": "2022-02-12T14:02:30.276Z"
      },
      {
        "duration": 5,
        "start_time": "2022-02-12T14:38:14.433Z"
      },
      {
        "duration": 36,
        "start_time": "2022-02-12T14:40:37.183Z"
      },
      {
        "duration": 19,
        "start_time": "2022-02-12T14:44:05.197Z"
      },
      {
        "duration": 21,
        "start_time": "2022-02-12T14:44:06.007Z"
      },
      {
        "duration": 19,
        "start_time": "2022-02-12T14:44:06.557Z"
      },
      {
        "duration": 28,
        "start_time": "2022-02-12T14:44:07.267Z"
      },
      {
        "duration": 18,
        "start_time": "2022-02-12T14:44:08.779Z"
      },
      {
        "duration": 6,
        "start_time": "2022-02-12T14:53:03.112Z"
      },
      {
        "duration": 11,
        "start_time": "2022-02-12T14:58:57.713Z"
      },
      {
        "duration": 10,
        "start_time": "2022-02-12T14:59:00.653Z"
      },
      {
        "duration": 41,
        "start_time": "2022-02-12T14:59:41.582Z"
      },
      {
        "duration": 5,
        "start_time": "2022-02-12T14:59:44.815Z"
      },
      {
        "duration": 20,
        "start_time": "2022-02-12T14:59:46.993Z"
      },
      {
        "duration": 18,
        "start_time": "2022-02-12T14:59:47.752Z"
      },
      {
        "duration": 19,
        "start_time": "2022-02-12T14:59:48.318Z"
      },
      {
        "duration": 19,
        "start_time": "2022-02-12T14:59:48.900Z"
      },
      {
        "duration": 20,
        "start_time": "2022-02-12T14:59:49.731Z"
      },
      {
        "duration": 18,
        "start_time": "2022-02-12T14:59:52.140Z"
      },
      {
        "duration": 8,
        "start_time": "2022-02-12T14:59:55.336Z"
      },
      {
        "duration": 234,
        "start_time": "2022-02-12T15:00:31.723Z"
      },
      {
        "duration": 13,
        "start_time": "2022-02-12T15:00:37.449Z"
      },
      {
        "duration": 63,
        "start_time": "2022-02-12T15:01:33.024Z"
      },
      {
        "duration": 69,
        "start_time": "2022-02-12T15:01:51.245Z"
      },
      {
        "duration": 5,
        "start_time": "2022-02-12T15:02:50.614Z"
      },
      {
        "duration": 4,
        "start_time": "2022-02-12T15:03:00.893Z"
      },
      {
        "duration": 6,
        "start_time": "2022-02-12T15:03:14.003Z"
      },
      {
        "duration": 5,
        "start_time": "2022-02-12T15:03:23.837Z"
      },
      {
        "duration": 9,
        "start_time": "2022-02-12T15:07:08.472Z"
      },
      {
        "duration": 12,
        "start_time": "2022-02-12T15:07:50.348Z"
      },
      {
        "duration": 14,
        "start_time": "2022-02-12T15:08:58.761Z"
      },
      {
        "duration": 11,
        "start_time": "2022-02-12T15:09:25.243Z"
      },
      {
        "duration": 5,
        "start_time": "2022-02-12T15:24:58.355Z"
      },
      {
        "duration": 38,
        "start_time": "2022-02-12T15:26:34.936Z"
      },
      {
        "duration": 5,
        "start_time": "2022-02-12T15:27:57.202Z"
      },
      {
        "duration": 23,
        "start_time": "2022-02-12T15:27:59.996Z"
      },
      {
        "duration": 21,
        "start_time": "2022-02-12T15:29:00.481Z"
      },
      {
        "duration": 17,
        "start_time": "2022-02-12T15:30:47.445Z"
      },
      {
        "duration": 17,
        "start_time": "2022-02-12T15:31:06.386Z"
      },
      {
        "duration": 26,
        "start_time": "2022-02-12T15:31:26.217Z"
      },
      {
        "duration": 408,
        "start_time": "2022-02-12T15:42:12.505Z"
      },
      {
        "duration": 27,
        "start_time": "2022-02-12T15:43:10.546Z"
      },
      {
        "duration": 14,
        "start_time": "2022-02-12T15:43:42.941Z"
      },
      {
        "duration": 13,
        "start_time": "2022-02-12T15:44:01.029Z"
      },
      {
        "duration": 30,
        "start_time": "2022-02-12T15:49:54.309Z"
      },
      {
        "duration": 9,
        "start_time": "2022-02-12T15:50:11.625Z"
      },
      {
        "duration": 12,
        "start_time": "2022-02-12T15:50:20.381Z"
      },
      {
        "duration": 234,
        "start_time": "2022-02-12T15:50:56.845Z"
      },
      {
        "duration": 260,
        "start_time": "2022-02-12T15:51:07.318Z"
      },
      {
        "duration": 262,
        "start_time": "2022-02-12T15:51:14.275Z"
      },
      {
        "duration": 27,
        "start_time": "2022-02-12T15:51:24.907Z"
      },
      {
        "duration": 260,
        "start_time": "2022-02-12T15:51:36.553Z"
      },
      {
        "duration": 43,
        "start_time": "2022-02-12T15:51:48.813Z"
      },
      {
        "duration": 17,
        "start_time": "2022-02-12T15:54:43.980Z"
      },
      {
        "duration": 12,
        "start_time": "2022-02-12T15:55:18.751Z"
      },
      {
        "duration": 35,
        "start_time": "2022-02-12T16:02:37.911Z"
      },
      {
        "duration": 252,
        "start_time": "2022-02-12T16:03:38.317Z"
      },
      {
        "duration": 39,
        "start_time": "2022-02-12T16:06:09.028Z"
      },
      {
        "duration": 13,
        "start_time": "2022-02-12T16:08:09.596Z"
      },
      {
        "duration": 5,
        "start_time": "2022-02-12T16:08:12.637Z"
      },
      {
        "duration": 21,
        "start_time": "2022-02-12T16:19:16.077Z"
      },
      {
        "duration": 13,
        "start_time": "2022-02-12T16:19:25.045Z"
      },
      {
        "duration": 9,
        "start_time": "2022-02-12T16:19:54.587Z"
      },
      {
        "duration": 15,
        "start_time": "2022-02-12T16:19:55.837Z"
      },
      {
        "duration": 7,
        "start_time": "2022-02-12T16:20:10.091Z"
      },
      {
        "duration": 13,
        "start_time": "2022-02-12T16:20:12.631Z"
      },
      {
        "duration": 7,
        "start_time": "2022-02-12T16:20:24.240Z"
      },
      {
        "duration": 13,
        "start_time": "2022-02-12T16:20:25.617Z"
      },
      {
        "duration": 7,
        "start_time": "2022-02-12T16:20:33.376Z"
      },
      {
        "duration": 13,
        "start_time": "2022-02-12T16:20:34.799Z"
      },
      {
        "duration": 8,
        "start_time": "2022-02-12T16:20:54.681Z"
      },
      {
        "duration": 12,
        "start_time": "2022-02-12T16:20:57.467Z"
      },
      {
        "duration": 7,
        "start_time": "2022-02-12T16:21:09.141Z"
      },
      {
        "duration": 12,
        "start_time": "2022-02-12T16:21:12.231Z"
      },
      {
        "duration": 7,
        "start_time": "2022-02-12T16:22:24.877Z"
      },
      {
        "duration": 12,
        "start_time": "2022-02-12T16:22:27.415Z"
      },
      {
        "duration": 7,
        "start_time": "2022-02-12T16:22:42.489Z"
      },
      {
        "duration": 14,
        "start_time": "2022-02-12T16:22:43.994Z"
      },
      {
        "duration": 308,
        "start_time": "2022-02-12T16:23:00.719Z"
      },
      {
        "duration": 7,
        "start_time": "2022-02-12T16:23:22.297Z"
      },
      {
        "duration": 19,
        "start_time": "2022-02-12T16:23:25.931Z"
      },
      {
        "duration": 7,
        "start_time": "2022-02-12T16:23:38.027Z"
      },
      {
        "duration": 13,
        "start_time": "2022-02-12T16:23:40.031Z"
      },
      {
        "duration": 14,
        "start_time": "2022-02-12T16:23:54.722Z"
      },
      {
        "duration": 31,
        "start_time": "2022-02-12T16:24:35.689Z"
      },
      {
        "duration": 12,
        "start_time": "2022-02-12T16:24:37.677Z"
      },
      {
        "duration": 7,
        "start_time": "2022-02-12T16:24:40.417Z"
      },
      {
        "duration": 8,
        "start_time": "2022-02-12T16:24:42.787Z"
      },
      {
        "duration": 6,
        "start_time": "2022-02-12T16:25:41.599Z"
      },
      {
        "duration": 11,
        "start_time": "2022-02-12T16:25:43.643Z"
      },
      {
        "duration": 7,
        "start_time": "2022-02-12T16:26:07.321Z"
      },
      {
        "duration": 11,
        "start_time": "2022-02-12T16:26:09.273Z"
      },
      {
        "duration": 12,
        "start_time": "2022-02-12T16:26:29.813Z"
      },
      {
        "duration": 6,
        "start_time": "2022-02-12T16:26:33.443Z"
      },
      {
        "duration": 25,
        "start_time": "2022-02-12T16:26:34.475Z"
      },
      {
        "duration": 16,
        "start_time": "2022-02-12T16:26:34.919Z"
      },
      {
        "duration": 25,
        "start_time": "2022-02-12T16:26:35.477Z"
      },
      {
        "duration": 18,
        "start_time": "2022-02-12T16:26:36.072Z"
      },
      {
        "duration": 28,
        "start_time": "2022-02-12T16:26:38.378Z"
      },
      {
        "duration": 12,
        "start_time": "2022-02-12T16:26:40.083Z"
      },
      {
        "duration": 17,
        "start_time": "2022-02-12T16:26:42.699Z"
      },
      {
        "duration": 9,
        "start_time": "2022-02-12T16:26:44.371Z"
      },
      {
        "duration": 35,
        "start_time": "2022-02-12T16:27:13.001Z"
      },
      {
        "duration": 13,
        "start_time": "2022-02-12T16:27:14.824Z"
      },
      {
        "duration": 12,
        "start_time": "2022-02-12T16:28:46.697Z"
      },
      {
        "duration": 363,
        "start_time": "2022-02-22T19:56:58.343Z"
      },
      {
        "duration": 472,
        "start_time": "2022-02-22T19:57:30.444Z"
      },
      {
        "duration": 725,
        "start_time": "2022-02-22T19:57:46.681Z"
      },
      {
        "duration": 227,
        "start_time": "2022-02-22T19:57:51.023Z"
      },
      {
        "duration": 27,
        "start_time": "2022-02-22T19:57:53.755Z"
      },
      {
        "duration": 34,
        "start_time": "2022-02-22T19:57:57.063Z"
      },
      {
        "duration": 5,
        "start_time": "2022-02-22T19:58:06.596Z"
      },
      {
        "duration": 6,
        "start_time": "2022-02-22T19:58:12.906Z"
      },
      {
        "duration": 5,
        "start_time": "2022-02-22T19:58:28.806Z"
      },
      {
        "duration": 84,
        "start_time": "2022-02-22T19:58:59.514Z"
      },
      {
        "duration": 6,
        "start_time": "2022-02-22T19:59:11.773Z"
      },
      {
        "duration": 34,
        "start_time": "2022-02-22T19:59:14.313Z"
      },
      {
        "duration": 7928,
        "start_time": "2022-02-22T19:59:17.867Z"
      },
      {
        "duration": 1816,
        "start_time": "2022-02-22T19:59:23.982Z"
      },
      {
        "duration": 80,
        "start_time": "2022-02-22T19:59:27.562Z"
      },
      {
        "duration": 104,
        "start_time": "2022-02-22T19:59:30.092Z"
      },
      {
        "duration": 78,
        "start_time": "2022-02-22T19:59:40.650Z"
      },
      {
        "duration": 61,
        "start_time": "2022-02-22T19:59:44.548Z"
      },
      {
        "duration": 4,
        "start_time": "2022-02-22T19:59:46.787Z"
      },
      {
        "duration": 21,
        "start_time": "2022-02-22T19:59:49.194Z"
      },
      {
        "duration": 60,
        "start_time": "2022-02-22T19:59:51.058Z"
      },
      {
        "duration": 340,
        "start_time": "2022-02-22T20:00:00.761Z"
      },
      {
        "duration": 310,
        "start_time": "2022-02-22T20:01:03.293Z"
      },
      {
        "duration": 357,
        "start_time": "2022-02-22T20:03:02.914Z"
      },
      {
        "duration": 4,
        "start_time": "2022-02-22T20:03:49.103Z"
      },
      {
        "duration": 189,
        "start_time": "2022-02-22T20:03:51.004Z"
      },
      {
        "duration": 16,
        "start_time": "2022-02-22T20:03:53.147Z"
      },
      {
        "duration": 31,
        "start_time": "2022-02-22T20:03:55.115Z"
      },
      {
        "duration": 6,
        "start_time": "2022-02-22T20:03:57.822Z"
      },
      {
        "duration": 24,
        "start_time": "2022-02-22T20:03:59.263Z"
      },
      {
        "duration": 6,
        "start_time": "2022-02-22T20:04:02.816Z"
      },
      {
        "duration": 31,
        "start_time": "2022-02-22T20:04:09.036Z"
      },
      {
        "duration": 25,
        "start_time": "2022-02-22T20:04:10.797Z"
      },
      {
        "duration": 32,
        "start_time": "2022-02-22T20:04:12.205Z"
      },
      {
        "duration": 86,
        "start_time": "2022-02-22T20:04:13.504Z"
      },
      {
        "duration": 103,
        "start_time": "2022-02-22T20:04:14.702Z"
      },
      {
        "duration": 77,
        "start_time": "2022-02-22T20:04:16.034Z"
      },
      {
        "duration": 65,
        "start_time": "2022-02-22T20:04:18.566Z"
      },
      {
        "duration": 5,
        "start_time": "2022-02-22T20:04:20.923Z"
      },
      {
        "duration": 21,
        "start_time": "2022-02-22T20:04:23.160Z"
      },
      {
        "duration": 57,
        "start_time": "2022-02-22T20:04:24.262Z"
      },
      {
        "duration": 14,
        "start_time": "2022-02-22T20:04:29.926Z"
      },
      {
        "duration": 44,
        "start_time": "2022-02-22T20:04:38.292Z"
      },
      {
        "duration": 15,
        "start_time": "2022-02-22T20:04:55.116Z"
      },
      {
        "duration": 21,
        "start_time": "2022-02-22T20:05:15.277Z"
      },
      {
        "duration": 15,
        "start_time": "2022-02-22T20:05:26.809Z"
      },
      {
        "duration": 14,
        "start_time": "2022-02-22T20:05:29.820Z"
      },
      {
        "duration": 16,
        "start_time": "2022-02-22T20:05:55.660Z"
      },
      {
        "duration": 5,
        "start_time": "2022-02-22T20:06:02.456Z"
      },
      {
        "duration": 22,
        "start_time": "2022-02-22T20:06:04.254Z"
      },
      {
        "duration": 19,
        "start_time": "2022-02-22T20:06:04.713Z"
      },
      {
        "duration": 24,
        "start_time": "2022-02-22T20:06:05.168Z"
      },
      {
        "duration": 19,
        "start_time": "2022-02-22T20:06:05.558Z"
      },
      {
        "duration": 22,
        "start_time": "2022-02-22T20:06:05.870Z"
      },
      {
        "duration": 18,
        "start_time": "2022-02-22T20:06:06.366Z"
      },
      {
        "duration": 13,
        "start_time": "2022-02-22T20:06:08.938Z"
      },
      {
        "duration": 16,
        "start_time": "2022-02-22T20:06:15.586Z"
      },
      {
        "duration": 12,
        "start_time": "2022-02-22T20:06:16.009Z"
      },
      {
        "duration": 6,
        "start_time": "2022-02-22T20:06:18.209Z"
      },
      {
        "duration": 26,
        "start_time": "2022-02-22T20:06:19.646Z"
      },
      {
        "duration": 18,
        "start_time": "2022-02-22T20:06:20.338Z"
      },
      {
        "duration": 24,
        "start_time": "2022-02-22T20:06:21.498Z"
      },
      {
        "duration": 18,
        "start_time": "2022-02-22T20:06:21.848Z"
      },
      {
        "duration": 33,
        "start_time": "2022-02-22T20:06:27.564Z"
      },
      {
        "duration": 298,
        "start_time": "2022-02-22T20:06:57.934Z"
      },
      {
        "duration": 385,
        "start_time": "2022-02-22T20:07:46.154Z"
      },
      {
        "duration": 31,
        "start_time": "2022-02-22T20:08:05.697Z"
      },
      {
        "duration": 28,
        "start_time": "2022-02-22T20:08:50.694Z"
      },
      {
        "duration": 94,
        "start_time": "2022-02-22T20:09:05.406Z"
      },
      {
        "duration": 307,
        "start_time": "2022-02-22T20:09:18.034Z"
      },
      {
        "duration": 36,
        "start_time": "2022-02-22T20:09:38.744Z"
      },
      {
        "duration": 342,
        "start_time": "2022-02-22T20:10:59.596Z"
      },
      {
        "duration": 16,
        "start_time": "2022-02-22T20:12:44.665Z"
      },
      {
        "duration": 12,
        "start_time": "2022-02-22T20:12:49.520Z"
      },
      {
        "duration": 7,
        "start_time": "2022-02-22T20:12:52.540Z"
      },
      {
        "duration": 18,
        "start_time": "2022-02-22T20:12:59.144Z"
      },
      {
        "duration": 7,
        "start_time": "2022-02-22T20:13:26.466Z"
      },
      {
        "duration": 7,
        "start_time": "2022-02-22T20:13:29.288Z"
      },
      {
        "duration": 335,
        "start_time": "2022-02-22T20:13:49.883Z"
      },
      {
        "duration": 300,
        "start_time": "2022-02-22T20:13:55.197Z"
      },
      {
        "duration": 7,
        "start_time": "2022-02-22T20:14:40.403Z"
      },
      {
        "duration": 7,
        "start_time": "2022-02-22T20:14:43.217Z"
      },
      {
        "duration": 300,
        "start_time": "2022-02-22T20:14:57.736Z"
      },
      {
        "duration": 306,
        "start_time": "2022-02-22T20:15:00.599Z"
      },
      {
        "duration": 14,
        "start_time": "2022-02-22T20:16:11.610Z"
      },
      {
        "duration": 7,
        "start_time": "2022-02-22T20:16:13.906Z"
      },
      {
        "duration": 372,
        "start_time": "2022-02-22T20:16:16.344Z"
      },
      {
        "duration": 306,
        "start_time": "2022-02-22T20:18:36.628Z"
      },
      {
        "duration": 12,
        "start_time": "2022-02-22T20:19:49.805Z"
      },
      {
        "duration": 14,
        "start_time": "2022-02-22T20:20:04.184Z"
      },
      {
        "duration": 6,
        "start_time": "2022-02-22T20:20:05.597Z"
      },
      {
        "duration": 25,
        "start_time": "2022-02-22T20:20:06.473Z"
      },
      {
        "duration": 19,
        "start_time": "2022-02-22T20:20:06.883Z"
      },
      {
        "duration": 24,
        "start_time": "2022-02-22T20:20:07.475Z"
      },
      {
        "duration": 18,
        "start_time": "2022-02-22T20:20:08.069Z"
      },
      {
        "duration": 14,
        "start_time": "2022-02-22T20:20:11.113Z"
      },
      {
        "duration": 6,
        "start_time": "2022-02-22T20:20:13.192Z"
      },
      {
        "duration": 10,
        "start_time": "2022-02-22T20:20:20.045Z"
      },
      {
        "duration": 7,
        "start_time": "2022-02-22T20:20:36.229Z"
      }
    ],
    "colab": {
      "collapsed_sections": [],
      "provenance": []
    },
    "kernelspec": {
      "display_name": "Python 3 (ipykernel)",
      "language": "python",
      "name": "python3"
    },
    "language_info": {
      "codemirror_mode": {
        "name": "ipython",
        "version": 3
      },
      "file_extension": ".py",
      "mimetype": "text/x-python",
      "name": "python",
      "nbconvert_exporter": "python",
      "pygments_lexer": "ipython3",
      "version": "3.9.5"
    },
    "toc": {
      "base_numbering": 1,
      "nav_menu": {},
      "number_sections": true,
      "sideBar": true,
      "skip_h1_title": true,
      "title_cell": "Table of Contents",
      "title_sidebar": "Contents",
      "toc_cell": false,
      "toc_position": {
        "height": "calc(100% - 180px)",
        "left": "10px",
        "top": "150px",
        "width": "165px"
      },
      "toc_section_display": true,
      "toc_window_display": true
    }
  },
  "nbformat": 4,
  "nbformat_minor": 0
}